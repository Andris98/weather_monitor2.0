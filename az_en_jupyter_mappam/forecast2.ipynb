{
 "cells": [
  {
   "cell_type": "code",
   "execution_count": 207,
   "metadata": {},
   "outputs": [],
   "source": [
    "import pandas as pd\n",
    "from influxdb import DataFrameClient\n",
    "import requests\n",
    "import pandas as pd\n",
    "from datetime import datetime"
   ]
  },
  {
   "cell_type": "code",
   "execution_count": 208,
   "metadata": {},
   "outputs": [],
   "source": [
    "class apiData:\n",
    "    def __init__(self,date,temp,rad,press,hum):\n",
    "        self.date = date\n",
    "        self.temp = temp\n",
    "        self.rad = rad\n",
    "        self.press = press\n",
    "        self.hum = hum"
   ]
  },
  {
   "cell_type": "code",
   "execution_count": 209,
   "metadata": {},
   "outputs": [],
   "source": [
    "result = requests.get('https://api.weatherbit.io/v2.0/forecast/daily?city=SfantuGheorghe&country=RO&key=API_KEY')"
   ]
  },
  {
   "cell_type": "code",
   "execution_count": 210,
   "metadata": {},
   "outputs": [],
   "source": [
    "#print(result.json())\n",
    "result = result.json()\n",
    "#result.json()"
   ]
  },
  {
   "cell_type": "code",
   "execution_count": 211,
   "metadata": {},
   "outputs": [],
   "source": [
    "#now = datetime.now()\n",
    "date= now.strftime(\"%y-%m-%d\")\n",
    "data = []"
   ]
  },
  {
   "cell_type": "code",
   "execution_count": 212,
   "metadata": {},
   "outputs": [
    {
     "name": "stdout",
     "output_type": "stream",
     "text": [
      "\u001b[33mWARNING: The directory '/home/jovyan/.cache/pip' or its parent directory is not owned or is not writable by the current user. The cache has been disabled. Check the permissions and owner of that directory. If executing pip with sudo, you may want sudo's -H flag.\u001b[0m\n",
      "Requirement already satisfied: influxdb in /opt/conda/lib/python3.7/site-packages (5.3.0)\n",
      "Requirement already satisfied: pytz in /opt/conda/lib/python3.7/site-packages (from influxdb) (2020.1)\n",
      "Requirement already satisfied: msgpack==0.6.1 in /opt/conda/lib/python3.7/site-packages (from influxdb) (0.6.1)\n",
      "Requirement already satisfied: requests>=2.17.0 in /opt/conda/lib/python3.7/site-packages (from influxdb) (2.23.0)\n",
      "Requirement already satisfied: python-dateutil>=2.6.0 in /opt/conda/lib/python3.7/site-packages (from influxdb) (2.8.1)\n",
      "Requirement already satisfied: six>=1.10.0 in /opt/conda/lib/python3.7/site-packages (from influxdb) (1.14.0)\n",
      "Requirement already satisfied: urllib3!=1.25.0,!=1.25.1,<1.26,>=1.21.1 in /opt/conda/lib/python3.7/site-packages (from requests>=2.17.0->influxdb) (1.25.7)\n",
      "Requirement already satisfied: idna<3,>=2.5 in /opt/conda/lib/python3.7/site-packages (from requests>=2.17.0->influxdb) (2.9)\n",
      "Requirement already satisfied: certifi>=2017.4.17 in /opt/conda/lib/python3.7/site-packages (from requests>=2.17.0->influxdb) (2019.11.28)\n",
      "Requirement already satisfied: chardet<4,>=3.0.2 in /opt/conda/lib/python3.7/site-packages (from requests>=2.17.0->influxdb) (3.0.4)\n",
      "\u001b[33mWARNING: The directory '/home/jovyan/.cache/pip' or its parent directory is not owned or is not writable by the current user. The cache has been disabled. Check the permissions and owner of that directory. If executing pip with sudo, you may want sudo's -H flag.\u001b[0m\n",
      "Requirement already satisfied: requests in /opt/conda/lib/python3.7/site-packages (2.23.0)\n",
      "Requirement already satisfied: urllib3!=1.25.0,!=1.25.1,<1.26,>=1.21.1 in /opt/conda/lib/python3.7/site-packages (from requests) (1.25.7)\n",
      "Requirement already satisfied: idna<3,>=2.5 in /opt/conda/lib/python3.7/site-packages (from requests) (2.9)\n",
      "Requirement already satisfied: certifi>=2017.4.17 in /opt/conda/lib/python3.7/site-packages (from requests) (2019.11.28)\n",
      "Requirement already satisfied: chardet<4,>=3.0.2 in /opt/conda/lib/python3.7/site-packages (from requests) (3.0.4)\n"
     ]
    }
   ],
   "source": [
    "import datetime\n",
    "from datetime import timedelta\n",
    "import pandas as pd\n",
    "import time\n",
    "!pip install influxdb\n",
    "\n",
    "!pip install requests\n",
    "from influxdb import DataFrameClient"
   ]
  },
  {
   "cell_type": "code",
   "execution_count": 213,
   "metadata": {},
   "outputs": [],
   "source": [
    "import datetime\n",
    "from datetime import timedelta"
   ]
  },
  {
   "cell_type": "code",
   "execution_count": 214,
   "metadata": {},
   "outputs": [
    {
     "name": "stdout",
     "output_type": "stream",
     "text": [
      "2020-06-03 12:44:31.748237\n",
      "2020-05-19 18.9 6.5589 956.544 55\n",
      "2020-05-20 13.6 4.1374 950.912 86\n",
      "2020-05-21 9.4 3.40502 952.407 77\n",
      "2020-05-22 7.6 4.03056 953.196 75\n",
      "2020-05-23 8.1 5.90415 958.556 74\n",
      "2020-05-24 9.4 3.56746 958.912 75\n",
      "2020-05-25 9.8 2.74544 961.184 93\n",
      "2020-05-26 10.6 3.12523 962.171 80\n",
      "2020-05-27 14.5 8.18011 958.829 71\n",
      "2020-05-28 15 8.46053 950.374 77\n",
      "2020-05-29 13.7 2.46749 946.405 86\n",
      "2020-05-30 14.3 2.80291 951.985 79\n",
      "2020-05-31 17.3 2.59654 949 78\n",
      "2020-06-01 19.3 3.03922 945.005 72\n",
      "2020-06-02 13.7 2.47748 942.593 91\n",
      "2020-06-03 16.1 7.08259 953.044 76\n"
     ]
    },
    {
     "ename": "IndexError",
     "evalue": "list index out of range",
     "output_type": "error",
     "traceback": [
      "\u001b[0;31m---------------------------------------------------------------------------\u001b[0m",
      "\u001b[0;31mIndexError\u001b[0m                                Traceback (most recent call last)",
      "\u001b[0;32m<ipython-input-214-6f843ee8d682>\u001b[0m in \u001b[0;36m<module>\u001b[0;34m\u001b[0m\n\u001b[1;32m      6\u001b[0m \u001b[0mdate\u001b[0m \u001b[0;34m=\u001b[0m \u001b[0mnow\u001b[0m\u001b[0;34m.\u001b[0m\u001b[0mstrftime\u001b[0m\u001b[0;34m(\u001b[0m\u001b[0;34m\"%y-%m-%d\"\u001b[0m\u001b[0;34m)\u001b[0m\u001b[0;34m\u001b[0m\u001b[0;34m\u001b[0m\u001b[0m\n\u001b[1;32m      7\u001b[0m \u001b[0;31m#print(result['data'][i]['valid_date'])\u001b[0m\u001b[0;34m\u001b[0m\u001b[0;34m\u001b[0m\u001b[0;34m\u001b[0m\u001b[0m\n\u001b[0;32m----> 8\u001b[0;31m \u001b[0;32mwhile\u001b[0m \u001b[0mresult\u001b[0m\u001b[0;34m[\u001b[0m\u001b[0;34m'data'\u001b[0m\u001b[0;34m]\u001b[0m\u001b[0;34m[\u001b[0m\u001b[0mi\u001b[0m\u001b[0;34m]\u001b[0m\u001b[0;34m[\u001b[0m\u001b[0;34m'valid_date'\u001b[0m\u001b[0;34m]\u001b[0m \u001b[0;34m!=\u001b[0m \u001b[0mnow_plus\u001b[0m \u001b[0;34m:\u001b[0m\u001b[0;34m\u001b[0m\u001b[0;34m\u001b[0m\u001b[0m\n\u001b[0m\u001b[1;32m      9\u001b[0m     \u001b[0mprint\u001b[0m \u001b[0;34m(\u001b[0m\u001b[0mresult\u001b[0m\u001b[0;34m[\u001b[0m\u001b[0;34m'data'\u001b[0m\u001b[0;34m]\u001b[0m\u001b[0;34m[\u001b[0m\u001b[0mi\u001b[0m\u001b[0;34m]\u001b[0m\u001b[0;34m[\u001b[0m\u001b[0;34m'valid_date'\u001b[0m\u001b[0;34m]\u001b[0m\u001b[0;34m,\u001b[0m\u001b[0mresult\u001b[0m\u001b[0;34m[\u001b[0m\u001b[0;34m'data'\u001b[0m\u001b[0;34m]\u001b[0m\u001b[0;34m[\u001b[0m\u001b[0mi\u001b[0m\u001b[0;34m]\u001b[0m\u001b[0;34m[\u001b[0m\u001b[0;34m'temp'\u001b[0m\u001b[0;34m]\u001b[0m\u001b[0;34m,\u001b[0m\u001b[0mresult\u001b[0m\u001b[0;34m[\u001b[0m\u001b[0;34m'data'\u001b[0m\u001b[0;34m]\u001b[0m\u001b[0;34m[\u001b[0m\u001b[0mi\u001b[0m\u001b[0;34m]\u001b[0m\u001b[0;34m[\u001b[0m\u001b[0;34m'uv'\u001b[0m\u001b[0;34m]\u001b[0m\u001b[0;34m,\u001b[0m\u001b[0mresult\u001b[0m\u001b[0;34m[\u001b[0m\u001b[0;34m'data'\u001b[0m\u001b[0;34m]\u001b[0m\u001b[0;34m[\u001b[0m\u001b[0mi\u001b[0m\u001b[0;34m]\u001b[0m\u001b[0;34m[\u001b[0m\u001b[0;34m'pres'\u001b[0m\u001b[0;34m]\u001b[0m\u001b[0;34m,\u001b[0m\u001b[0mresult\u001b[0m\u001b[0;34m[\u001b[0m\u001b[0;34m'data'\u001b[0m\u001b[0;34m]\u001b[0m\u001b[0;34m[\u001b[0m\u001b[0mi\u001b[0m\u001b[0;34m]\u001b[0m\u001b[0;34m[\u001b[0m\u001b[0;34m'rh'\u001b[0m\u001b[0;34m]\u001b[0m\u001b[0;34m)\u001b[0m\u001b[0;34m\u001b[0m\u001b[0;34m\u001b[0m\u001b[0m\n\u001b[1;32m     10\u001b[0m     \u001b[0mdata\u001b[0m\u001b[0;34m.\u001b[0m\u001b[0mappend\u001b[0m\u001b[0;34m(\u001b[0m\u001b[0mapiData\u001b[0m\u001b[0;34m(\u001b[0m\u001b[0mresult\u001b[0m\u001b[0;34m[\u001b[0m\u001b[0;34m'data'\u001b[0m\u001b[0;34m]\u001b[0m\u001b[0;34m[\u001b[0m\u001b[0mi\u001b[0m\u001b[0;34m]\u001b[0m\u001b[0;34m[\u001b[0m\u001b[0;34m'valid_date'\u001b[0m\u001b[0;34m]\u001b[0m\u001b[0;34m,\u001b[0m\u001b[0mresult\u001b[0m\u001b[0;34m[\u001b[0m\u001b[0;34m'data'\u001b[0m\u001b[0;34m]\u001b[0m\u001b[0;34m[\u001b[0m\u001b[0mi\u001b[0m\u001b[0;34m]\u001b[0m\u001b[0;34m[\u001b[0m\u001b[0;34m'temp'\u001b[0m\u001b[0;34m]\u001b[0m\u001b[0;34m,\u001b[0m\u001b[0mresult\u001b[0m\u001b[0;34m[\u001b[0m\u001b[0;34m'data'\u001b[0m\u001b[0;34m]\u001b[0m\u001b[0;34m[\u001b[0m\u001b[0mi\u001b[0m\u001b[0;34m]\u001b[0m\u001b[0;34m[\u001b[0m\u001b[0;34m'uv'\u001b[0m\u001b[0;34m]\u001b[0m\u001b[0;34m,\u001b[0m\u001b[0mresult\u001b[0m\u001b[0;34m[\u001b[0m\u001b[0;34m'data'\u001b[0m\u001b[0;34m]\u001b[0m\u001b[0;34m[\u001b[0m\u001b[0mi\u001b[0m\u001b[0;34m]\u001b[0m\u001b[0;34m[\u001b[0m\u001b[0;34m'pres'\u001b[0m\u001b[0;34m]\u001b[0m\u001b[0;34m,\u001b[0m\u001b[0mresult\u001b[0m\u001b[0;34m[\u001b[0m\u001b[0;34m'data'\u001b[0m\u001b[0;34m]\u001b[0m\u001b[0;34m[\u001b[0m\u001b[0mi\u001b[0m\u001b[0;34m]\u001b[0m\u001b[0;34m[\u001b[0m\u001b[0;34m'rh'\u001b[0m\u001b[0;34m]\u001b[0m\u001b[0;34m)\u001b[0m\u001b[0;34m)\u001b[0m\u001b[0;34m\u001b[0m\u001b[0;34m\u001b[0m\u001b[0m\n",
      "\u001b[0;31mIndexError\u001b[0m: list index out of range"
     ]
    }
   ],
   "source": [
    "i=0\n",
    "now = datetime.datetime.now()\n",
    "#print(now)\n",
    "now_plus = now + datetime.timedelta(days = 15)\n",
    "print(now_plus)\n",
    "date = now.strftime(\"%y-%m-%d\")\n",
    "#print(result['data'][i]['valid_date'])\n",
    "while result['data'][i]['valid_date'] != now_plus :\n",
    "    print (result['data'][i]['valid_date'],result['data'][i]['temp'],result['data'][i]['uv'],result['data'][i]['pres'],result['data'][i]['rh'])\n",
    "    data.append(apiData(result['data'][i]['valid_date'],result['data'][i]['temp'],result['data'][i]['uv'],result['data'][i]['pres'],result['data'][i]['rh']))\n",
    "    i=i+1"
   ]
  },
  {
   "cell_type": "code",
   "execution_count": null,
   "metadata": {},
   "outputs": [],
   "source": [
    "df = pd.DataFrame(columns=['date','temp','uv','pres','rh'])\n",
    "print (df)\n",
    "for i in range(len(data)):\n",
    "    df.loc[i] = [data[i].date,data[i].temp,data[i].rad,data[i].press,data[i].hum]"
   ]
  },
  {
   "cell_type": "code",
   "execution_count": 215,
   "metadata": {},
   "outputs": [
    {
     "name": "stdout",
     "output_type": "stream",
     "text": [
      "            temp       uv     pres    rh\n",
      "date                                    \n",
      "2020-05-19  18.9  6.55890  956.544  55.0\n",
      "2020-05-20  13.6  4.13740  950.912  86.0\n",
      "2020-05-21   9.4  3.40502  952.407  77.0\n",
      "2020-05-22   7.6  4.03056  953.196  75.0\n",
      "2020-05-23   8.1  5.90415  958.556  74.0\n",
      "2020-05-24   9.4  3.56746  958.912  75.0\n",
      "2020-05-25   9.8  2.74544  961.184  93.0\n",
      "2020-05-26  10.6  3.12523  962.171  80.0\n",
      "2020-05-27  14.5  8.18011  958.829  71.0\n",
      "2020-05-28  15.0  8.46053  950.374  77.0\n",
      "2020-05-29  13.7  2.46749  946.405  86.0\n",
      "2020-05-30  14.3  2.80291  951.985  79.0\n",
      "2020-05-31  17.3  2.59654  949.000  78.0\n",
      "2020-06-01  19.3  3.03922  945.005  72.0\n",
      "2020-06-02  13.7  2.47748  942.593  91.0\n",
      "2020-06-03  16.1  7.08259  953.044  76.0\n"
     ]
    }
   ],
   "source": [
    "print(df)"
   ]
  },
  {
   "cell_type": "code",
   "execution_count": null,
   "metadata": {},
   "outputs": [],
   "source": [
    "user = 'root'\n",
    "password = 'root'\n",
    "host='influxdb' #172.28.1.2 #localhost #3.14.5.146 - kozos osztaly InfluxDB szerver\n",
    "port=8086\n",
    "dbname='forecast2' #az en adatbazis nevem\n",
    "protocol = 'line' #json\n",
    "measurement='teszt'\n",
    "client = DataFrameClient(host, port, user, password, dbname)"
   ]
  },
  {
   "cell_type": "code",
   "execution_count": null,
   "metadata": {},
   "outputs": [],
   "source": [
    "client.drop_database(dbname)\n",
    "client.drop_retention_policy(dbname)\n",
    "client.create_database(dbname)\n",
    "client.create_retention_policy(dbname, '1000d', 1, default=True)"
   ]
  },
  {
   "cell_type": "code",
   "execution_count": null,
   "metadata": {},
   "outputs": [],
   "source": [
    "client.query('show databases')"
   ]
  },
  {
   "cell_type": "code",
   "execution_count": null,
   "metadata": {},
   "outputs": [],
   "source": [
    "df = pd.DataFrame(df).set_index('date')"
   ]
  },
  {
   "cell_type": "code",
   "execution_count": null,
   "metadata": {},
   "outputs": [],
   "source": [
    "df.index = pd.to_datetime(df.index)\n",
    "df['temp']=df['temp'].astype(float)\n",
    "df['uv']=df['uv'].astype(float)\n",
    "df['pres']=df['pres'].astype(float)\n",
    "df['rh']=df['rh'].astype(float)"
   ]
  },
  {
   "cell_type": "code",
   "execution_count": 216,
   "metadata": {},
   "outputs": [
    {
     "data": {
      "text/html": [
       "<div>\n",
       "<style scoped>\n",
       "    .dataframe tbody tr th:only-of-type {\n",
       "        vertical-align: middle;\n",
       "    }\n",
       "\n",
       "    .dataframe tbody tr th {\n",
       "        vertical-align: top;\n",
       "    }\n",
       "\n",
       "    .dataframe thead th {\n",
       "        text-align: right;\n",
       "    }\n",
       "</style>\n",
       "<table border=\"1\" class=\"dataframe\">\n",
       "  <thead>\n",
       "    <tr style=\"text-align: right;\">\n",
       "      <th></th>\n",
       "      <th>temp</th>\n",
       "      <th>uv</th>\n",
       "      <th>pres</th>\n",
       "      <th>rh</th>\n",
       "    </tr>\n",
       "    <tr>\n",
       "      <th>date</th>\n",
       "      <th></th>\n",
       "      <th></th>\n",
       "      <th></th>\n",
       "      <th></th>\n",
       "    </tr>\n",
       "  </thead>\n",
       "  <tbody>\n",
       "    <tr>\n",
       "      <th>2020-05-19</th>\n",
       "      <td>18.9</td>\n",
       "      <td>6.55890</td>\n",
       "      <td>956.544</td>\n",
       "      <td>55.0</td>\n",
       "    </tr>\n",
       "    <tr>\n",
       "      <th>2020-05-20</th>\n",
       "      <td>13.6</td>\n",
       "      <td>4.13740</td>\n",
       "      <td>950.912</td>\n",
       "      <td>86.0</td>\n",
       "    </tr>\n",
       "    <tr>\n",
       "      <th>2020-05-21</th>\n",
       "      <td>9.4</td>\n",
       "      <td>3.40502</td>\n",
       "      <td>952.407</td>\n",
       "      <td>77.0</td>\n",
       "    </tr>\n",
       "    <tr>\n",
       "      <th>2020-05-22</th>\n",
       "      <td>7.6</td>\n",
       "      <td>4.03056</td>\n",
       "      <td>953.196</td>\n",
       "      <td>75.0</td>\n",
       "    </tr>\n",
       "    <tr>\n",
       "      <th>2020-05-23</th>\n",
       "      <td>8.1</td>\n",
       "      <td>5.90415</td>\n",
       "      <td>958.556</td>\n",
       "      <td>74.0</td>\n",
       "    </tr>\n",
       "    <tr>\n",
       "      <th>2020-05-24</th>\n",
       "      <td>9.4</td>\n",
       "      <td>3.56746</td>\n",
       "      <td>958.912</td>\n",
       "      <td>75.0</td>\n",
       "    </tr>\n",
       "    <tr>\n",
       "      <th>2020-05-25</th>\n",
       "      <td>9.8</td>\n",
       "      <td>2.74544</td>\n",
       "      <td>961.184</td>\n",
       "      <td>93.0</td>\n",
       "    </tr>\n",
       "    <tr>\n",
       "      <th>2020-05-26</th>\n",
       "      <td>10.6</td>\n",
       "      <td>3.12523</td>\n",
       "      <td>962.171</td>\n",
       "      <td>80.0</td>\n",
       "    </tr>\n",
       "    <tr>\n",
       "      <th>2020-05-27</th>\n",
       "      <td>14.5</td>\n",
       "      <td>8.18011</td>\n",
       "      <td>958.829</td>\n",
       "      <td>71.0</td>\n",
       "    </tr>\n",
       "    <tr>\n",
       "      <th>2020-05-28</th>\n",
       "      <td>15.0</td>\n",
       "      <td>8.46053</td>\n",
       "      <td>950.374</td>\n",
       "      <td>77.0</td>\n",
       "    </tr>\n",
       "    <tr>\n",
       "      <th>2020-05-29</th>\n",
       "      <td>13.7</td>\n",
       "      <td>2.46749</td>\n",
       "      <td>946.405</td>\n",
       "      <td>86.0</td>\n",
       "    </tr>\n",
       "    <tr>\n",
       "      <th>2020-05-30</th>\n",
       "      <td>14.3</td>\n",
       "      <td>2.80291</td>\n",
       "      <td>951.985</td>\n",
       "      <td>79.0</td>\n",
       "    </tr>\n",
       "    <tr>\n",
       "      <th>2020-05-31</th>\n",
       "      <td>17.3</td>\n",
       "      <td>2.59654</td>\n",
       "      <td>949.000</td>\n",
       "      <td>78.0</td>\n",
       "    </tr>\n",
       "    <tr>\n",
       "      <th>2020-06-01</th>\n",
       "      <td>19.3</td>\n",
       "      <td>3.03922</td>\n",
       "      <td>945.005</td>\n",
       "      <td>72.0</td>\n",
       "    </tr>\n",
       "    <tr>\n",
       "      <th>2020-06-02</th>\n",
       "      <td>13.7</td>\n",
       "      <td>2.47748</td>\n",
       "      <td>942.593</td>\n",
       "      <td>91.0</td>\n",
       "    </tr>\n",
       "    <tr>\n",
       "      <th>2020-06-03</th>\n",
       "      <td>16.1</td>\n",
       "      <td>7.08259</td>\n",
       "      <td>953.044</td>\n",
       "      <td>76.0</td>\n",
       "    </tr>\n",
       "  </tbody>\n",
       "</table>\n",
       "</div>"
      ],
      "text/plain": [
       "            temp       uv     pres    rh\n",
       "date                                    \n",
       "2020-05-19  18.9  6.55890  956.544  55.0\n",
       "2020-05-20  13.6  4.13740  950.912  86.0\n",
       "2020-05-21   9.4  3.40502  952.407  77.0\n",
       "2020-05-22   7.6  4.03056  953.196  75.0\n",
       "2020-05-23   8.1  5.90415  958.556  74.0\n",
       "2020-05-24   9.4  3.56746  958.912  75.0\n",
       "2020-05-25   9.8  2.74544  961.184  93.0\n",
       "2020-05-26  10.6  3.12523  962.171  80.0\n",
       "2020-05-27  14.5  8.18011  958.829  71.0\n",
       "2020-05-28  15.0  8.46053  950.374  77.0\n",
       "2020-05-29  13.7  2.46749  946.405  86.0\n",
       "2020-05-30  14.3  2.80291  951.985  79.0\n",
       "2020-05-31  17.3  2.59654  949.000  78.0\n",
       "2020-06-01  19.3  3.03922  945.005  72.0\n",
       "2020-06-02  13.7  2.47748  942.593  91.0\n",
       "2020-06-03  16.1  7.08259  953.044  76.0"
      ]
     },
     "execution_count": 216,
     "metadata": {},
     "output_type": "execute_result"
    }
   ],
   "source": [
    "df"
   ]
  },
  {
   "cell_type": "code",
   "execution_count": null,
   "metadata": {},
   "outputs": [],
   "source": [
    "client.write_points(df, 'database', protocol=protocol,field_columns=['temp','uv','pres','rh'])\n"
   ]
  },
  {
   "cell_type": "code",
   "execution_count": null,
   "metadata": {},
   "outputs": [],
   "source": []
  },
  {
   "cell_type": "code",
   "execution_count": null,
   "metadata": {},
   "outputs": [],
   "source": []
  }
 ],
 "metadata": {
  "kernelspec": {
   "display_name": "Python 3",
   "language": "python",
   "name": "python3"
  },
  "language_info": {
   "codemirror_mode": {
    "name": "ipython",
    "version": 3
   },
   "file_extension": ".py",
   "mimetype": "text/x-python",
   "name": "python",
   "nbconvert_exporter": "python",
   "pygments_lexer": "ipython3",
   "version": "3.7.6"
  }
 },
 "nbformat": 4,
 "nbformat_minor": 4
}
