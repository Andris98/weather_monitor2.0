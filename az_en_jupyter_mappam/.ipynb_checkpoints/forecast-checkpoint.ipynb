{
 "cells": [
  {
   "cell_type": "code",
   "execution_count": 55,
   "metadata": {},
   "outputs": [],
   "source": [
    "import pandas as pd\n",
    "from influxdb import DataFrameClient"
   ]
  },
  {
   "cell_type": "code",
   "execution_count": null,
   "metadata": {},
   "outputs": [],
   "source": []
  },
  {
   "cell_type": "code",
   "execution_count": 56,
   "metadata": {},
   "outputs": [],
   "source": [
    "import requests\n",
    "import pandas as pd\n",
    "from datetime import datetime"
   ]
  },
  {
   "cell_type": "code",
   "execution_count": 57,
   "metadata": {},
   "outputs": [],
   "source": [
    "class apiData:\n",
    "    def __init__(self,index,rad,uv,press,temp,hum):\n",
    "        self.index = index\n",
    "        self.rad = rad\n",
    "        self.uv = uv\n",
    "        self.press = press\n",
    "        self.temp = temp\n",
    "        self.hum = hum"
   ]
  },
  {
   "cell_type": "code",
   "execution_count": 77,
   "metadata": {},
   "outputs": [],
   "source": [
    "result = requests.get('https://api.weatherbit.io/v2.0/current?city=SfantuGheorghe&country=RO&key=API_KEY')"
   ]
  },
  {
   "cell_type": "code",
   "execution_count": 59,
   "metadata": {},
   "outputs": [
    {
     "name": "stdout",
     "output_type": "stream",
     "text": [
      "{'data': [{'rh': 44, 'pod': 'd', 'lon': 25.78333, 'pres': 956.112, 'timezone': 'Europe/Bucharest', 'ob_time': '2020-05-19 11:44', 'country_code': 'RO', 'clouds': 100, 'ts': 1589888687, 'solar_rad': 213.715, 'state_code': '15', 'city_name': 'Sfântu-Gheorghe', 'wind_spd': 1.99177, 'last_ob_time': '2020-05-19T11:24:00', 'wind_cdir_full': 'west-northwest', 'wind_cdir': 'WNW', 'slp': 1017.17, 'vis': 24.1353, 'h_angle': 11.3, 'sunset': '17:45', 'dni': 900.7, 'dewpt': 11.7, 'snow': 0, 'uv': 2.39278, 'precip': 0, 'wind_dir': 293, 'sunrise': '02:39', 'ghi': 854.86, 'dhi': 115.19, 'aqi': 23, 'lat': 45.86667, 'weather': {'icon': 'c04d', 'code': '804', 'description': 'Overcast clouds'}, 'datetime': '2020-05-19:11', 'temp': 23.7, 'station': 'F2979', 'elev_angle': 62.31, 'app_temp': 23.3}], 'count': 1}\n"
     ]
    }
   ],
   "source": [
    "print(result.json())"
   ]
  },
  {
   "cell_type": "code",
   "execution_count": 60,
   "metadata": {},
   "outputs": [],
   "source": [
    "import numpy\n",
    "import json"
   ]
  },
  {
   "cell_type": "code",
   "execution_count": 61,
   "metadata": {},
   "outputs": [
    {
     "name": "stdout",
     "output_type": "stream",
     "text": [
      "{'rh': 44, 'pod': 'd', 'lon': 25.78333, 'pres': 956.112, 'timezone': 'Europe/Bucharest', 'ob_time': '2020-05-19 11:44', 'country_code': 'RO', 'clouds': 100, 'ts': 1589888687, 'solar_rad': 213.715, 'state_code': '15', 'city_name': 'Sfântu-Gheorghe', 'wind_spd': 1.99177, 'last_ob_time': '2020-05-19T11:24:00', 'wind_cdir_full': 'west-northwest', 'wind_cdir': 'WNW', 'slp': 1017.17, 'vis': 24.1353, 'h_angle': 11.3, 'sunset': '17:45', 'dni': 900.7, 'dewpt': 11.7, 'snow': 0, 'uv': 2.39278, 'precip': 0, 'wind_dir': 293, 'sunrise': '02:39', 'ghi': 854.86, 'dhi': 115.19, 'aqi': 23, 'lat': 45.86667, 'weather': {'icon': 'c04d', 'code': '804', 'description': 'Overcast clouds'}, 'datetime': '2020-05-19:11', 'temp': 23.7, 'station': 'F2979', 'elev_angle': 62.31, 'app_temp': 23.3}\n"
     ]
    }
   ],
   "source": [
    "results = result.json()\n",
    "print(results['data'][0])\n"
   ]
  },
  {
   "cell_type": "code",
   "execution_count": 62,
   "metadata": {},
   "outputs": [],
   "source": [
    "r = result.json()['data'][0]['solar_rad']\n",
    "u = result.json()['data'][0]['uv']\n",
    "p = result.json()['data'][0]['pres']\n",
    "t = result.json()['data'][0]['temp']\n",
    "h = result.json()['data'][0]['rh']\n",
    "index = datetime.now()"
   ]
  },
  {
   "cell_type": "code",
   "execution_count": 63,
   "metadata": {},
   "outputs": [],
   "source": [
    "data = []"
   ]
  },
  {
   "cell_type": "code",
   "execution_count": 64,
   "metadata": {},
   "outputs": [
    {
     "name": "stdout",
     "output_type": "stream",
     "text": [
      "2020-05-19 11:46:09.023255 213.715 2.39278 956.112 23.7 44\n"
     ]
    }
   ],
   "source": [
    "data = apiData(index,r, u, p, t, h)\n",
    "print(data.index,data.rad, data.uv,data.press,data.temp,data.hum)"
   ]
  },
  {
   "cell_type": "code",
   "execution_count": 65,
   "metadata": {},
   "outputs": [
    {
     "name": "stdout",
     "output_type": "stream",
     "text": [
      "\u001b[33mWARNING: The directory '/home/jovyan/.cache/pip' or its parent directory is not owned or is not writable by the current user. The cache has been disabled. Check the permissions and owner of that directory. If executing pip with sudo, you may want sudo's -H flag.\u001b[0m\n",
      "Requirement already satisfied: influxdb in /opt/conda/lib/python3.7/site-packages (5.3.0)\n",
      "Requirement already satisfied: six>=1.10.0 in /opt/conda/lib/python3.7/site-packages (from influxdb) (1.14.0)\n",
      "Requirement already satisfied: msgpack==0.6.1 in /opt/conda/lib/python3.7/site-packages (from influxdb) (0.6.1)\n",
      "Requirement already satisfied: pytz in /opt/conda/lib/python3.7/site-packages (from influxdb) (2020.1)\n",
      "Requirement already satisfied: python-dateutil>=2.6.0 in /opt/conda/lib/python3.7/site-packages (from influxdb) (2.8.1)\n",
      "Requirement already satisfied: requests>=2.17.0 in /opt/conda/lib/python3.7/site-packages (from influxdb) (2.23.0)\n",
      "Requirement already satisfied: certifi>=2017.4.17 in /opt/conda/lib/python3.7/site-packages (from requests>=2.17.0->influxdb) (2019.11.28)\n",
      "Requirement already satisfied: chardet<4,>=3.0.2 in /opt/conda/lib/python3.7/site-packages (from requests>=2.17.0->influxdb) (3.0.4)\n",
      "Requirement already satisfied: idna<3,>=2.5 in /opt/conda/lib/python3.7/site-packages (from requests>=2.17.0->influxdb) (2.9)\n",
      "Requirement already satisfied: urllib3!=1.25.0,!=1.25.1,<1.26,>=1.21.1 in /opt/conda/lib/python3.7/site-packages (from requests>=2.17.0->influxdb) (1.25.7)\n",
      "\u001b[33mWARNING: The directory '/home/jovyan/.cache/pip' or its parent directory is not owned or is not writable by the current user. The cache has been disabled. Check the permissions and owner of that directory. If executing pip with sudo, you may want sudo's -H flag.\u001b[0m\n",
      "Requirement already satisfied: requests in /opt/conda/lib/python3.7/site-packages (2.23.0)\n",
      "Requirement already satisfied: certifi>=2017.4.17 in /opt/conda/lib/python3.7/site-packages (from requests) (2019.11.28)\n",
      "Requirement already satisfied: urllib3!=1.25.0,!=1.25.1,<1.26,>=1.21.1 in /opt/conda/lib/python3.7/site-packages (from requests) (1.25.7)\n",
      "Requirement already satisfied: idna<3,>=2.5 in /opt/conda/lib/python3.7/site-packages (from requests) (2.9)\n",
      "Requirement already satisfied: chardet<4,>=3.0.2 in /opt/conda/lib/python3.7/site-packages (from requests) (3.0.4)\n"
     ]
    }
   ],
   "source": [
    "import pandas as pd\n",
    "import time\n",
    "!pip install influxdb\n",
    "\n",
    "!pip install requests\n",
    "from influxdb import DataFrameClient"
   ]
  },
  {
   "cell_type": "code",
   "execution_count": 66,
   "metadata": {},
   "outputs": [
    {
     "name": "stdout",
     "output_type": "stream",
     "text": [
      "Empty DataFrame\n",
      "Columns: [index, radiation, UV, press, temp, hum]\n",
      "Index: []\n"
     ]
    }
   ],
   "source": [
    "df = pd.DataFrame(columns=['index','radiation','UV','press','temp','hum'])\n",
    "print (df)\n"
   ]
  },
  {
   "cell_type": "code",
   "execution_count": 67,
   "metadata": {},
   "outputs": [],
   "source": [
    "df.loc[0] = [data.index,data.rad,data.uv,data.press,data.temp,data.hum]"
   ]
  },
  {
   "cell_type": "code",
   "execution_count": 68,
   "metadata": {},
   "outputs": [
    {
     "name": "stdout",
     "output_type": "stream",
     "text": [
      "                       index  radiation       UV    press  temp hum\n",
      "0 2020-05-19 11:46:09.023255    213.715  2.39278  956.112  23.7  44\n"
     ]
    }
   ],
   "source": [
    "print(df)"
   ]
  },
  {
   "cell_type": "code",
   "execution_count": 69,
   "metadata": {},
   "outputs": [],
   "source": [
    "user = 'root'\n",
    "password = 'root'\n",
    "host='influxdb' #172.28.1.2 #localhost #3.14.5.146 - kozos osztaly InfluxDB szerver\n",
    "port=8086\n",
    "dbname='forecast' #az en adatbazis nevem\n",
    "protocol = 'line' #json\n",
    "measurement='teszt'\n",
    "client = DataFrameClient(host, port, user, password, dbname)"
   ]
  },
  {
   "cell_type": "code",
   "execution_count": 70,
   "metadata": {},
   "outputs": [],
   "source": [
    "client.drop_database(dbname)\n",
    "client.drop_retention_policy(dbname)\n",
    "client.create_database(dbname)\n",
    "client.create_retention_policy(dbname, '1000d', 1, default=True)"
   ]
  },
  {
   "cell_type": "code",
   "execution_count": 71,
   "metadata": {},
   "outputs": [
    {
     "data": {
      "text/plain": [
       "ResultSet({'('databases', None)': [{'name': '_internal'}, {'name': 'base'}, {'name': 'covid19Romania'}, {'name': 'forecast2'}, {'name': 'forecast'}]})"
      ]
     },
     "execution_count": 71,
     "metadata": {},
     "output_type": "execute_result"
    }
   ],
   "source": [
    "client.query('show databases')"
   ]
  },
  {
   "cell_type": "code",
   "execution_count": 72,
   "metadata": {},
   "outputs": [],
   "source": [
    "df = pd.DataFrame(df).set_index('index')"
   ]
  },
  {
   "cell_type": "code",
   "execution_count": 73,
   "metadata": {},
   "outputs": [],
   "source": [
    "df.index = pd.to_datetime(df.index)\n",
    "df['radiation']=df['radiation'].astype(float)\n",
    "df['UV']=df['UV'].astype(float)\n",
    "df['press']=df['press'].astype(float)\n",
    "df['temp']=df['temp'].astype(float)\n",
    "df['hum']=df['hum'].astype(float)"
   ]
  },
  {
   "cell_type": "code",
   "execution_count": 74,
   "metadata": {},
   "outputs": [
    {
     "data": {
      "text/plain": [
       "True"
      ]
     },
     "execution_count": 74,
     "metadata": {},
     "output_type": "execute_result"
    }
   ],
   "source": [
    "client.write_points(df, 'database', protocol=protocol,field_columns=['radiation','UV','press','temp','hum'])\n"
   ]
  },
  {
   "cell_type": "code",
   "execution_count": 1,
   "metadata": {},
   "outputs": [
    {
     "name": "stderr",
     "output_type": "stream",
     "text": [
      "ERROR:root:Internal Python error in the inspect module.\n",
      "Below is the traceback from this internal error.\n",
      "\n"
     ]
    },
    {
     "name": "stdout",
     "output_type": "stream",
     "text": [
      "Traceback (most recent call last):\n",
      "  File \"/opt/conda/lib/python3.7/site-packages/IPython/core/interactiveshell.py\", line 3331, in run_code\n",
      "    exec(code_obj, self.user_global_ns, self.user_ns)\n",
      "  File \"<ipython-input-1-2678cb83ffa5>\", line 6, in <module>\n",
      "    time.sleep(2)\n",
      "NameError: name 'time' is not defined\n",
      "\n",
      "During handling of the above exception, another exception occurred:\n",
      "\n",
      "Traceback (most recent call last):\n",
      "  File \"/opt/conda/lib/python3.7/site-packages/IPython/core/interactiveshell.py\", line 2044, in showtraceback\n",
      "    stb = value._render_traceback_()\n",
      "AttributeError: 'NameError' object has no attribute '_render_traceback_'\n",
      "\n",
      "During handling of the above exception, another exception occurred:\n",
      "\n",
      "Traceback (most recent call last):\n",
      "  File \"/opt/conda/lib/python3.7/site-packages/IPython/core/ultratb.py\", line 1148, in get_records\n",
      "    return _fixed_getinnerframes(etb, number_of_lines_of_context, tb_offset)\n",
      "  File \"/opt/conda/lib/python3.7/site-packages/IPython/core/ultratb.py\", line 316, in wrapped\n",
      "    return f(*args, **kwargs)\n",
      "  File \"/opt/conda/lib/python3.7/site-packages/IPython/core/ultratb.py\", line 350, in _fixed_getinnerframes\n",
      "    records = fix_frame_records_filenames(inspect.getinnerframes(etb, context))\n",
      "  File \"/opt/conda/lib/python3.7/inspect.py\", line 1502, in getinnerframes\n",
      "    frameinfo = (tb.tb_frame,) + getframeinfo(tb, context)\n",
      "  File \"/opt/conda/lib/python3.7/inspect.py\", line 1464, in getframeinfo\n",
      "    lines, lnum = findsource(frame)\n",
      "  File \"/opt/conda/lib/python3.7/site-packages/IPython/core/ultratb.py\", line 223, in findsource\n",
      "    pat = re.compile(r'^(\\s*def\\s)|(.*(?<!\\w)lambda(:|\\s))|^(\\s*@)')\n",
      "  File \"/opt/conda/lib/python3.7/re.py\", line 234, in compile\n",
      "    return _compile(pattern, flags)\n",
      "  File \"/opt/conda/lib/python3.7/re.py\", line 284, in _compile\n",
      "    if not sre_compile.isstring(pattern):\n",
      "  File \"/opt/conda/lib/python3.7/sre_compile.py\", line 595, in isstring\n",
      "    def isstring(obj):\n",
      "KeyboardInterrupt\n"
     ]
    },
    {
     "ename": "NameError",
     "evalue": "name 'time' is not defined",
     "output_type": "error",
     "traceback": [
      "\u001b[0;31m---------------------------------------------------------------------------\u001b[0m"
     ]
    }
   ],
   "source": [
    "for i in range(5000):\n",
    "    #now = pd.to_datetime('index')\n",
    "    #value=randrange(10)\n",
    "    #print(now)\n",
    "    #result = requests.get('https://api.weatherbit.io/v2.0/current?city=SfantuGheorghe&country=RO&key=API_KEY')\n",
    "    time.sleep(2)\n",
    "    index = datetime.now()\n",
    "    #data={'a':{'index':now,'value':value,'szin':'piros','nev':'Denes'}}\n",
    "    #df=pd.DataFrame(data).T.set_index('index')\n",
    "    #df.index=pd.to_datetime(df.index)\n",
    "    #df['value']=df['value'].astype(int)\n",
    "    #client.write_points(df, measurement, protocol=protocol,\n",
    "     #                   field_columns=['value'],\n",
    "     #                   tag_columns=['szin','nev'])\n",
    "    df.index = pd.to_datetime(df.index)\n",
    "    df['radiation']=df['radiation'].astype(float)\n",
    "    df['UV']=df['UV'].astype(float)\n",
    "    df['press']=df['press'].astype(float)\n",
    "    client.write_points(df, 'database', protocol=protocol,field_columns=['radiation','UV','press'])\n",
    "    print(df)\n"
   ]
  },
  {
   "cell_type": "code",
   "execution_count": null,
   "metadata": {},
   "outputs": [],
   "source": []
  }
 ],
 "metadata": {
  "kernelspec": {
   "display_name": "Python 3",
   "language": "python",
   "name": "python3"
  },
  "language_info": {
   "codemirror_mode": {
    "name": "ipython",
    "version": 3
   },
   "file_extension": ".py",
   "mimetype": "text/x-python",
   "name": "python",
   "nbconvert_exporter": "python",
   "pygments_lexer": "ipython3",
   "version": "3.7.6"
  }
 },
 "nbformat": 4,
 "nbformat_minor": 4
}
